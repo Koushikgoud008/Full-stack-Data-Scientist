{
 "cells": [
  {
   "cell_type": "markdown",
   "id": "6740db0d",
   "metadata": {},
   "source": [
    "1. Problem: Given a text file, count the total number of words."
   ]
  },
  {
   "cell_type": "code",
   "execution_count": 5,
   "id": "02a07de8",
   "metadata": {},
   "outputs": [
    {
     "name": "stdout",
     "output_type": "stream",
     "text": [
      "5\n"
     ]
    }
   ],
   "source": [
    "def word_count(file):\n",
    "    with open(file,'r', encoding='UTF-8') as fil:\n",
    "        f = fil.read()\n",
    "        words = f.split()\n",
    "        return len(words)\n",
    "print(word_count(\"./test.txt\"))"
   ]
  },
  {
   "cell_type": "markdown",
   "id": "37fb1e57",
   "metadata": {},
   "source": [
    "2. Problem: Write a program to check if a password is strong (at least 8 characters, contains uppercase, lowercase, digit, and special char)."
   ]
  },
  {
   "cell_type": "code",
   "execution_count": 20,
   "id": "1b4c2f0d",
   "metadata": {},
   "outputs": [
    {
     "name": "stdout",
     "output_type": "stream",
     "text": [
      "Password is weak.\n"
     ]
    }
   ],
   "source": [
    "import re\n",
    "\n",
    "def is_strong_password(password):\n",
    "    \n",
    "    if len(password) < 8:\n",
    "        return False\n",
    "    \n",
    "    if not re.search(r'[A-Z]', password):\n",
    "        return False\n",
    "    \n",
    "    if not re.search(r'[a-z]', password):\n",
    "        return False\n",
    "    \n",
    "    if not re.search(r'\\d', password):\n",
    "        return False\n",
    "    \n",
    "    if not re.search(r'[!@#$%^&*(),.?\":{}|<>]', password):\n",
    "        return False\n",
    "    \n",
    "    return True\n",
    "\n",
    "password = input(\"Enter password to check: \")\n",
    "if is_strong_password(password):\n",
    "    print(\"Password is strong.\")\n",
    "else:\n",
    "    print(\"Password is weak.\")\n"
   ]
  },
  {
   "cell_type": "markdown",
   "id": "7d83c8b2",
   "metadata": {},
   "source": [
    "3. Problem: Implement a calculator with +, -, *, / operations."
   ]
  },
  {
   "cell_type": "code",
   "execution_count": 21,
   "id": "5d17e3f1",
   "metadata": {},
   "outputs": [
    {
     "name": "stdout",
     "output_type": "stream",
     "text": [
      "Addition:  11\n"
     ]
    }
   ],
   "source": [
    "def cal(num1,num2,op):\n",
    "    match op:\n",
    "        case '+' :\n",
    "            print(\"Addition: \",num1+num2)\n",
    "        case '-' :\n",
    "            print(\"Subtraction: \", num1-num2)\n",
    "        case '/' :\n",
    "            if num2 > 0 :\n",
    "                print(\"Subtraction: \", num1//num2)\n",
    "            else:\n",
    "                print(\"Not dividsable by Zero\")\n",
    "        case '*' :\n",
    "            print(\"Subtraction: \", num1*num2)\n",
    "        case deault :\n",
    "            print(\"Not correct option\")\n",
    "cal(int(input()),int(input()),input())\n"
   ]
  },
  {
   "cell_type": "markdown",
   "id": "849fc8b6",
   "metadata": {},
   "source": [
    "4. Problem: Given a list of student names, find duplicates."
   ]
  },
  {
   "cell_type": "code",
   "execution_count": null,
   "id": "3ebe44d9",
   "metadata": {},
   "outputs": [
    {
     "name": "stdout",
     "output_type": "stream",
     "text": [
      "Duplicate names: ['Bob', 'Alice']\n"
     ]
    }
   ],
   "source": [
    "def find_duplicates(names):\n",
    "    seen = set()\n",
    "    duplicates = set()\n",
    "    \n",
    "    for name in names:\n",
    "        if name in seen:\n",
    "            duplicates.add(name)\n",
    "        else:\n",
    "            seen.add(name)\n",
    "    \n",
    "    return list(duplicates)\n",
    "\n",
    "students = [\"Alice\", \"Bob\", \"Alice\", \"Eve\", \"Bob\", \"Charlie\"]\n",
    "print(\"Duplicate names:\", find_duplicates(students))\n"
   ]
  },
  {
   "cell_type": "markdown",
   "id": "e77b3d81",
   "metadata": {},
   "source": [
    "5. Problem: Convert between Celsius and Fahrenheit."
   ]
  },
  {
   "cell_type": "code",
   "execution_count": 2,
   "id": "1628effd",
   "metadata": {},
   "outputs": [
    {
     "name": "stdout",
     "output_type": "stream",
     "text": [
      "70.0°C is 158.00°F\n"
     ]
    }
   ],
   "source": [
    "def celsius_to_fahrenheit(celsius):\n",
    "    return (celsius * 9 / 5) + 32\n",
    "\n",
    "def fahrenheit_to_celsius(fahrenheit):\n",
    "    return (fahrenheit - 32) * 5 / 9\n",
    "\n",
    "choice = input(\"Convert from Celsius to Fahrenheit (C) or Fahrenheit to Celsius (F)? \").strip().upper()\n",
    "\n",
    "if choice == 'C':\n",
    "    c = float(input(\"Enter temperature in Celsius: \"))\n",
    "    print(f\"{c}°C is {celsius_to_fahrenheit(c):.2f}°F\")\n",
    "elif choice == 'F':\n",
    "    f = float(input(\"Enter temperature in Fahrenheit: \"))\n",
    "    print(f\"{f}°F is {fahrenheit_to_celsius(f):.2f}°C\")\n",
    "else:\n",
    "    print(\"Invalid choice! Please enter 'C' or 'F'.\")\n"
   ]
  },
  {
   "cell_type": "markdown",
   "id": "fc0ca309",
   "metadata": {},
   "source": [
    "6. Problem: Find the largest number from a list of integers."
   ]
  },
  {
   "cell_type": "code",
   "execution_count": 5,
   "id": "174e9bf7",
   "metadata": {},
   "outputs": [
    {
     "name": "stdout",
     "output_type": "stream",
     "text": [
      "90\n"
     ]
    }
   ],
   "source": [
    "def lar_val(le):\n",
    "    return max(le)\n",
    "print(lar_val(list(map(int, input().split(\",\")))))"
   ]
  },
  {
   "cell_type": "markdown",
   "id": "5c6e1c07",
   "metadata": {},
   "source": [
    "7. Problem: Calculate Simple Interest."
   ]
  },
  {
   "cell_type": "code",
   "execution_count": 6,
   "id": "e4b74f58",
   "metadata": {},
   "outputs": [
    {
     "name": "stdout",
     "output_type": "stream",
     "text": [
      "Simple Interst :80.0\n"
     ]
    }
   ],
   "source": [
    "def cal(p, r, t):\n",
    "    return (p*r*t)/100.0\n",
    "ins = int(input(\"Enter instert\"))\n",
    "time = int(input(\"time \"))\n",
    "prin =int(input(\"principle \"))\n",
    "print(f\"Simple Interst :{cal(prin, ins, time)}\")"
   ]
  },
  {
   "cell_type": "markdown",
   "id": "e093f213",
   "metadata": {},
   "source": [
    "8. Problem: Given a dictionary of student names and attendance %, find defaulters (<75%)."
   ]
  },
  {
   "cell_type": "code",
   "execution_count": 10,
   "id": "ccb2525a",
   "metadata": {},
   "outputs": [
    {
     "name": "stdout",
     "output_type": "stream",
     "text": [
      "['kamal', 'ara']\n"
     ]
    }
   ],
   "source": [
    "def de(att):\n",
    "    res = []\n",
    "    for i in att:\n",
    "        if att[i] <=75:\n",
    "            res.append(i)\n",
    "    return res\n",
    "di ={\"kamal\" : 50, \"vamc\" : 76, \"ara\" : 56}\n",
    "print(de(di))"
   ]
  },
  {
   "cell_type": "markdown",
   "id": "fc7069fd",
   "metadata": {},
   "source": [
    "9. Problem: Input: 1234 → Output: 10"
   ]
  },
  {
   "cell_type": "code",
   "execution_count": 12,
   "id": "3e1f95b9",
   "metadata": {},
   "outputs": [
    {
     "name": "stdout",
     "output_type": "stream",
     "text": [
      "Sum of the Digits is 10\n"
     ]
    }
   ],
   "source": [
    "def di_su(num):\n",
    "    res = 0\n",
    "    rem =0\n",
    "    while num>0:\n",
    "        rem = num%10\n",
    "        res+=rem\n",
    "        num//=10\n",
    "    return res\n",
    "print(f\"Sum of the Digits is {di_su(int(input('Enter number: ')))}\")"
   ]
  },
  {
   "cell_type": "markdown",
   "id": "1d5ba0ce",
   "metadata": {},
   "source": [
    "10. Problem: Write a function to check if a number is prime."
   ]
  },
  {
   "cell_type": "code",
   "execution_count": 14,
   "id": "ba5d5823",
   "metadata": {},
   "outputs": [
    {
     "name": "stdout",
     "output_type": "stream",
     "text": [
      "True\n"
     ]
    }
   ],
   "source": [
    "def prime_is(num):\n",
    "    if num < 2:\n",
    "        return False\n",
    "    for i in range(2, int(num**0.5)):\n",
    "        if num%i == 0:\n",
    "            return False\n",
    "    return True\n",
    "print(prime_is(int(input(\"Enter num: \"))))"
   ]
  },
  {
   "cell_type": "markdown",
   "id": "ad413058",
   "metadata": {},
   "source": [
    "11. Problem: Find smallest and largest numbers from a list."
   ]
  },
  {
   "cell_type": "code",
   "execution_count": 15,
   "id": "55db1f25",
   "metadata": {},
   "outputs": [
    {
     "name": "stdout",
     "output_type": "stream",
     "text": [
      "Largest number is: 90 , smallest number is: 12\n"
     ]
    }
   ],
   "source": [
    "le = list(map(int, input().split(\",\")))\n",
    "print(f\"Largest number is: {max(le)} , smallest number is: {min(le)}\")"
   ]
  },
  {
   "cell_type": "markdown",
   "id": "a5815693",
   "metadata": {},
   "source": [
    "12. Problem: Given items with prices in a dictionary, calculate total bill."
   ]
  },
  {
   "cell_type": "code",
   "execution_count": 16,
   "id": "92e537c3",
   "metadata": {},
   "outputs": [
    {
     "name": "stdout",
     "output_type": "stream",
     "text": [
      "toatal amount: 5500\n"
     ]
    }
   ],
   "source": [
    "def bill_tt(myDict):\n",
    "    tt = 0\n",
    "    for i in myDict:\n",
    "        tt+=myDict[i]\n",
    "    return tt\n",
    "di = {\"shop\" : 500, \"rent\" : 5000}\n",
    "print(f\"toatal amount: {bill_tt(di)}\")"
   ]
  },
  {
   "cell_type": "markdown",
   "id": "a8e9007a",
   "metadata": {},
   "source": [
    "13. Problem: Input 3 numbers, print the largest."
   ]
  },
  {
   "cell_type": "code",
   "execution_count": 1,
   "id": "dc984d8d",
   "metadata": {},
   "outputs": [
    {
     "name": "stdout",
     "output_type": "stream",
     "text": [
      "The largest number is: 66.6\n"
     ]
    }
   ],
   "source": [
    "num1 = float(input())\n",
    "num2 = float(input())\n",
    "num3 = float(input())\n",
    "\n",
    "largest = max(num1, num2, num3)\n",
    "\n",
    "print(f\"The largest number is: {largest}\")\n"
   ]
  },
  {
   "cell_type": "markdown",
   "id": "fa5891bb",
   "metadata": {},
   "source": [
    "14. Problem: Count how many times each character appears in a string."
   ]
  },
  {
   "cell_type": "code",
   "execution_count": 1,
   "id": "c22e63c0",
   "metadata": {},
   "outputs": [
    {
     "name": "stdout",
     "output_type": "stream",
     "text": [
      "{'k': 2, 'o': 3, 'u': 2, 's': 1, 'h': 1, 'i': 1, ' ': 4, 'f': 1, 'a': 2, 'm': 2, 'd': 2, 'g': 1}\n"
     ]
    }
   ],
   "source": [
    "from collections import Counter\n",
    "print(dict(Counter(input())))"
   ]
  },
  {
   "cell_type": "markdown",
   "id": "7eab0163",
   "metadata": {},
   "source": [
    "15. Problem: Calculate electricity bill:\n",
    "First 100 units → ₹5/unit\n",
    "Next 100 units → ₹7/unit\n",
    "Above 200 units → ₹10/unit"
   ]
  },
  {
   "cell_type": "code",
   "execution_count": 2,
   "id": "4f5b4532",
   "metadata": {},
   "outputs": [
    {
     "name": "stdout",
     "output_type": "stream",
     "text": [
      "Electricity Bill: ₹3700\n"
     ]
    }
   ],
   "source": [
    "units = int(input())\n",
    "\n",
    "if units <= 100:\n",
    "    bill = units * 5\n",
    "elif units <= 200:\n",
    "    bill = 100 * 5 + (units - 100) * 7\n",
    "else:\n",
    "    bill = 100 * 5 + 100 * 7 + (units - 200) * 10\n",
    "\n",
    "print(f\"Electricity Bill: ₹{bill}\")\n"
   ]
  },
  {
   "cell_type": "markdown",
   "id": "a9aa678a",
   "metadata": {},
   "source": [
    "16. Problem: Sort a list of names in ascending order."
   ]
  },
  {
   "cell_type": "code",
   "execution_count": 2,
   "id": "acbb92ef",
   "metadata": {},
   "outputs": [
    {
     "name": "stdout",
     "output_type": "stream",
     "text": [
      "['abhi', 'aravavind', 'koushik', 'villu']\n"
     ]
    }
   ],
   "source": [
    "names = list(input().split(\",\"))\n",
    "print(sorted(names))"
   ]
  },
  {
   "cell_type": "markdown",
   "id": "32c56d71",
   "metadata": {},
   "source": [
    "17. Problem: Input: 1234 → Output: 4321"
   ]
  },
  {
   "cell_type": "code",
   "execution_count": 6,
   "id": "811c47ee",
   "metadata": {},
   "outputs": [
    {
     "name": "stdout",
     "output_type": "stream",
     "text": [
      "Reverse Digit of number is -> 4321\n"
     ]
    }
   ],
   "source": [
    "number = int(input(\"Enter Number: \"))\n",
    "res_num = 0\n",
    "while number > 0 :\n",
    "    rem = number%10\n",
    "    res_num=res_num*10 + rem\n",
    "    number//=10\n",
    "print(f\"Reverse Digit of number is -> {res_num}\")"
   ]
  },
  {
   "cell_type": "markdown",
   "id": "ccbb32b9",
   "metadata": {},
   "source": [
    "18. Problem: Given a list, count positive, negative, and zero numbers."
   ]
  },
  {
   "cell_type": "code",
   "execution_count": 8,
   "id": "494337bc",
   "metadata": {},
   "outputs": [
    {
     "name": "stdout",
     "output_type": "stream",
     "text": [
      "Positive numbers: 3\n",
      "Negative numbers: 2\n",
      "Zeroes: 1\n"
     ]
    }
   ],
   "source": [
    "numbers = list(map(int, input().split()))\n",
    "positive = negative = zero = 0\n",
    "\n",
    "for num in numbers:\n",
    "    if num > 0:\n",
    "        positive += 1\n",
    "    elif num < 0:\n",
    "        negative += 1\n",
    "    else:\n",
    "        zero += 1\n",
    "\n",
    "print(f\"Positive numbers: {positive}\")\n",
    "print(f\"Negative numbers: {negative}\")\n",
    "print(f\"Zeroes: {zero}\")\n"
   ]
  },
  {
   "cell_type": "markdown",
   "id": "3218cc43",
   "metadata": {},
   "source": [
    "19. Problem: User has 3 attempts to enter correct PIN."
   ]
  },
  {
   "cell_type": "code",
   "execution_count": 9,
   "id": "756def8d",
   "metadata": {},
   "outputs": [
    {
     "name": "stdout",
     "output_type": "stream",
     "text": [
      "Incorrect PIN. 2 attempts left.\n",
      "Incorrect PIN. 1 attempts left.\n",
      "Incorrect PIN. 0 attempts left.\n",
      "Access Denied\n"
     ]
    }
   ],
   "source": [
    "correct_pin = \"1234\"\n",
    "attempts = 3\n",
    "\n",
    "while attempts > 0:\n",
    "    pin = input(\"Enter PIN: \")\n",
    "    if pin == correct_pin:\n",
    "        print(\"Access Granted\")\n",
    "        break\n",
    "    else:\n",
    "        attempts -= 1\n",
    "        print(f\"Incorrect PIN. {attempts} attempts left.\")\n",
    "else:\n",
    "    print(\"Access Denied\")\n"
   ]
  },
  {
   "cell_type": "markdown",
   "id": "0632a53e",
   "metadata": {},
   "source": [
    "20. Problem: Write a program that asks for two numbers and divides them. Handle division by zero."
   ]
  },
  {
   "cell_type": "code",
   "execution_count": 10,
   "id": "db209a0c",
   "metadata": {},
   "outputs": [
    {
     "name": "stdout",
     "output_type": "stream",
     "text": [
      "Cannot divide by zero\n"
     ]
    }
   ],
   "source": [
    "num1 = float(input(\"Enter first number: \"))\n",
    "num2 = float(input(\"Enter second number: \"))\n",
    "\n",
    "try:\n",
    "    result = num1 / num2\n",
    "    print(f\"Result: {result}\")\n",
    "except ZeroDivisionError:\n",
    "    print(\"Cannot divide by zero\")\n"
   ]
  },
  {
   "cell_type": "markdown",
   "id": "09de03a5",
   "metadata": {},
   "source": [
    "21. Problem: Write a program that handles both ValueError (invalid input) and ZeroDivisionError."
   ]
  },
  {
   "cell_type": "code",
   "execution_count": 11,
   "id": "a92f8de4",
   "metadata": {},
   "outputs": [
    {
     "name": "stdout",
     "output_type": "stream",
     "text": [
      "Invalid input. Please enter numbers.\n"
     ]
    }
   ],
   "source": [
    "try:\n",
    "    num1 = int(input(\"Enter first number: \"))\n",
    "    num2 = int(input(\"Enter second number: \"))\n",
    "    result = num1 / num2\n",
    "    print(f\"Result: {result}\")\n",
    "except ValueError:\n",
    "    print(\"Invalid input. Please enter numbers.\")\n",
    "except ZeroDivisionError:\n",
    "    print(\"Cannot divide by zero.\")\n"
   ]
  },
  {
   "cell_type": "markdown",
   "id": "fe165b93",
   "metadata": {},
   "source": [
    "22. Problem: If withdrawal amount is greater than balance, raise an exception."
   ]
  },
  {
   "cell_type": "code",
   "execution_count": 12,
   "id": "fe1b1881",
   "metadata": {},
   "outputs": [
    {
     "name": "stdout",
     "output_type": "stream",
     "text": [
      "Withdrawal successful. Remaining balance: 960.0\n"
     ]
    }
   ],
   "source": [
    "balance = 1000\n",
    "withdrawal = float(input(\"Enter withdrawal amount: \"))\n",
    "\n",
    "if withdrawal > balance:\n",
    "    raise Exception(\"Insufficient balance\")\n",
    "else:\n",
    "    balance -= withdrawal\n",
    "    print(f\"Withdrawal successful. Remaining balance: {balance}\")\n"
   ]
  },
  {
   "cell_type": "markdown",
   "id": "e3d3fde4",
   "metadata": {},
   "source": [
    "23. Problem: Calculate total price, handle invalid input, and always show \"Bill processing finished\".\n",
    "• First 100 units → ₹5/unit\n",
    "• Next 100 units → ₹7/unit\n",
    "• Above 200 units → ₹10/uni"
   ]
  },
  {
   "cell_type": "code",
   "execution_count": 13,
   "id": "4c31bf90",
   "metadata": {},
   "outputs": [
    {
     "name": "stdout",
     "output_type": "stream",
     "text": [
      "Total Bill: ₹4200\n",
      "Bill processing finished\n"
     ]
    }
   ],
   "source": [
    "try:\n",
    "    units = int(input(\"Enter units consumed: \"))\n",
    "    if units < 0:\n",
    "        raise ValueError(\"Units cannot be negative\")\n",
    "    if units <= 100:\n",
    "        bill = units * 5\n",
    "    elif units <= 200:\n",
    "        bill = 100 * 5 + (units - 100) * 7\n",
    "    else:\n",
    "        bill = 100 * 5 + 100 * 7 + (units - 200) * 10\n",
    "    print(f\"Total Bill: ₹{bill}\")\n",
    "except ValueError as e:\n",
    "    print(f\"Invalid input: {e}\")\n",
    "finally:\n",
    "    print(\"Bill processing finished\")\n"
   ]
  },
  {
   "cell_type": "code",
   "execution_count": null,
   "id": "16bae27d",
   "metadata": {},
   "outputs": [],
   "source": [
    "1. Problem: Given a text file, count the total number of words.\n",
    "2. Problem: Write a program to check if a password is strong (at least 8 characters, contains uppercase, lowercase, digit, and special char).\n",
    "3. Problem: Implement a calculator with +, -, *, / operations.\n",
    "4. Problem: Given a list of student names, find duplicates.\n",
    "5. Problem: Convert between Celsius and Fahrenheit.\n",
    "6. Problem: Find the largest number from a list of integers.\n",
    "7. Problem: Calculate Simple Interest.\n",
    "8. Problem: Given a dictionary of student names and attendance %, find defaulters (<75%).\n",
    "9. Problem: Input: 1234 → Output: 10\n",
    "10. Problem: Write a function to check if a number is prime.\n",
    "11. Problem: Find smallest and largest numbers from a list.\n",
    "12. Problem: Given items with prices in a dictionary, calculate total bill.\n",
    "13. Problem: Input 3 numbers, print the largest.\n",
    "14. Problem: Count how many times each character appears in a string.\n",
    "15. Problem: Calculate electricity bill:\n",
    "First 100 units → ₹5/unit\n",
    "Next 100 units → ₹7/unit\n",
    "Above 200 units → ₹10/unit\n",
    "16. Problem: Sort a list of names in ascending order.\n",
    "17. Problem: Input: 1234 → Output: 4321\n",
    "18. Problem: Given a list, count positive, negative, and zero numbers.\n",
    "19. Problem: User has 3 attempts to enter correct PIN.\n",
    "20. Problem: Write a program that asks for two numbers and divides them. Handle division by zero.\n",
    "21. Problem: Write a program that handles both ValueError (invalid input) and ZeroDivisionError.\n",
    "22. Problem: If withdrawal amount is greater than balance, raise an exception.\n",
    "23. Problem: Calculate total price, handle invalid input, and always show \"Bill processing finished\".\n",
    "• First 100 units → ₹5/unit\n",
    "• Next 100 units → ₹7/unit\n",
    "• Above 200 units → ₹10/uni"
   ]
  },
  {
   "cell_type": "markdown",
   "id": "b9743e79",
   "metadata": {},
   "source": [
    "1. Problem: Given a text file, count the total number of words.\n",
    "2. Problem: Write a program to check if a password is strong (at least 8 characters, contains uppercase, lowercase, digit, and special char).\n",
    "3. Problem: Implement a calculator with +, -, *, / operations.\n",
    "4. Problem: Given a list of student names, find duplicates.\n",
    "5. Problem: Convert between Celsius and Fahrenheit.\n",
    "6. Problem: Find the largest number from a list of integers.\n",
    "7. Problem: Calculate Simple Interest.\n",
    "8. Problem: Given a dictionary of student names and attendance %, find defaulters (<75%).\n",
    "9. Problem: Input: 1234 → Output: 10\n",
    "10. Problem: Write a function to check if a number is prime.\n",
    "11. Problem: Find smallest and largest numbers from a list.\n",
    "12. Problem: Given items with prices in a dictionary, calculate total bill.\n",
    "13. Problem: Input 3 numbers, print the largest.\n",
    "14. Problem: Count how many times each character appears in a string.\n",
    "15. Problem: Calculate electricity bill:\n",
    "First 100 units → ₹5/unit\n",
    "Next 100 units → ₹7/unit\n",
    "Above 200 units → ₹10/unit\n",
    "16. Problem: Sort a list of names in ascending order.\n",
    "17. Problem: Input: 1234 → Output: 4321\n",
    "18. Problem: Given a list, count positive, negative, and zero numbers.\n",
    "19. Problem: User has 3 attempts to enter correct PIN.\n",
    "20. Problem: Write a program that asks for two numbers and divides them. Handle division by zero.\n",
    "21. Problem: Write a program that handles both ValueError (invalid input) and ZeroDivisionError.\n",
    "22. Problem: If withdrawal amount is greater than balance, raise an exception.\n",
    "23. Problem: Calculate total price, handle invalid input, and always show \"Bill processing finished\".\n",
    "• First 100 units → ₹5/unit\n",
    "• Next 100 units → ₹7/unit\n",
    "• Above 200 units → ₹10/uni"
   ]
  }
 ],
 "metadata": {
  "kernelspec": {
   "display_name": "Python 3",
   "language": "python",
   "name": "python3"
  },
  "language_info": {
   "codemirror_mode": {
    "name": "ipython",
    "version": 3
   },
   "file_extension": ".py",
   "mimetype": "text/x-python",
   "name": "python",
   "nbconvert_exporter": "python",
   "pygments_lexer": "ipython3",
   "version": "3.11.0"
  }
 },
 "nbformat": 4,
 "nbformat_minor": 5
}
