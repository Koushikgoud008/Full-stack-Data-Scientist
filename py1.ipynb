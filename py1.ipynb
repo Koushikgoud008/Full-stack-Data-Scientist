{
 "cells": [
  {
   "cell_type": "code",
   "execution_count": 3,
   "metadata": {},
   "outputs": [
    {
     "name": "stdout",
     "output_type": "stream",
     "text": [
      "Number1:  22 Number2:  12\n",
      "After swapping:\n",
      "Number1:  12 Number2:  22\n"
     ]
    }
   ],
   "source": [
    "num1 = int(input(\"Enter first number: \"))\n",
    "num2 = int(input(\"Enter second number: \"))\n",
    "\n",
    "print(\"Number1: \", num1 ,\"Number2: \" , num2)\n",
    "\n",
    "num1 = num1+num2\n",
    "num2 = num1-num2\n",
    "num1 = num1-num2\n",
    "\n",
    "print(\"After swapping:\")\n",
    "print(\"Number1: \", num1 ,\"Number2: \" , num2)"
   ]
  },
  {
   "cell_type": "code",
   "execution_count": 7,
   "metadata": {},
   "outputs": [
    {
     "name": "stdout",
     "output_type": "stream",
     "text": [
      "kihsuok"
     ]
    }
   ],
   "source": [
    "str = input()\n",
    "for i in range(len(str)-1, -1, -1):\n",
    "    print(str[i], end=\"\")"
   ]
  },
  {
   "cell_type": "code",
   "execution_count": 13,
   "metadata": {},
   "outputs": [
    {
     "name": "stdout",
     "output_type": "stream",
     "text": [
      "Armstrong number\n"
     ]
    }
   ],
   "source": [
    "amnum = int(input(\"Enter a number: \"))\n",
    "su = 0\n",
    "re = amnum\n",
    "while amnum > 0:\n",
    "    digit = amnum % 10\n",
    "    su += digit ** 3\n",
    "    amnum //= 10\n",
    "if su == re:\n",
    "    print(\"Armstrong number\")\n",
    "else:\n",
    "    print(\"Not an Armstrong number\")"
   ]
  },
  {
   "cell_type": "code",
   "execution_count": 15,
   "metadata": {},
   "outputs": [
    {
     "name": "stdout",
     "output_type": "stream",
     "text": [
      "vowels:  11\n",
      "consonants:  19\n"
     ]
    }
   ],
   "source": [
    "str = input(\"Enter a string: \")\n",
    "vowels = 0\n",
    "consonants = 0\n",
    "for char in str:\n",
    "    if char.isalpha():\n",
    "        if char.lower() in 'aeiou':\n",
    "            vowels += 1\n",
    "        else:\n",
    "            consonants += 1\n",
    "print(\"vowels: \", vowels)\n",
    "print(\"consonants: \", consonants)"
   ]
  },
  {
   "cell_type": "code",
   "execution_count": 16,
   "metadata": {},
   "outputs": [
    {
     "name": "stdout",
     "output_type": "stream",
     "text": [
      "17 x 1 = 17\n",
      "17 x 2 = 34\n",
      "17 x 3 = 51\n",
      "17 x 4 = 68\n",
      "17 x 5 = 85\n",
      "17 x 6 = 102\n",
      "17 x 7 = 119\n",
      "17 x 8 = 136\n",
      "17 x 9 = 153\n",
      "17 x 10 = 170\n"
     ]
    }
   ],
   "source": [
    "val = int(input(\"Enter Number: \"))\n",
    "for i in range(1, 11):\n",
    "    print(val, 'x', i, '=', val * i)\n"
   ]
  },
  {
   "cell_type": "code",
   "execution_count": 18,
   "metadata": {},
   "outputs": [
    {
     "name": "stdout",
     "output_type": "stream",
     "text": [
      "400 is a leap year\n"
     ]
    }
   ],
   "source": [
    "yr = int(input(\"Enter Number: \"))\n",
    "if yr%400 == 0:\n",
    "    print(yr, \"is a leap year\")\n",
    "elif yr%100 == 0:\n",
    "    print(yr, \"is not a leap year\")\n",
    "elif yr%4 == 0:\n",
    "    print(yr, \"is a leap year\")\n",
    "else:\n",
    "    print(yr, \"is not a leap year\")"
   ]
  },
  {
   "cell_type": "code",
   "execution_count": 24,
   "metadata": {},
   "outputs": [
    {
     "name": "stdout",
     "output_type": "stream",
     "text": [
      "Maximum score:  67\n"
     ]
    }
   ],
   "source": [
    "score = list(map(int, input(\"Enter Number: \").split(\",\")))\n",
    "print(\"Maximum score: \", max(score))\n"
   ]
  },
  {
   "cell_type": "code",
   "execution_count": 25,
   "metadata": {},
   "outputs": [
    {
     "name": "stdout",
     "output_type": "stream",
     "text": [
      "Reversed string:  madam\n",
      "Palindrome\n"
     ]
    }
   ],
   "source": [
    "str = input(\"string: \")\n",
    "restr = \"\"\n",
    "for i in range(len(str)-1, -1, -1):\n",
    "    restr = restr + str[i]\n",
    "print(\"Reversed string: \", restr)\n",
    "if restr == str:\n",
    "    print(\"Palindrome\")\n",
    "else:\n",
    "    print(\"Not a palindrome\")\n",
    "    "
   ]
  },
  {
   "cell_type": "code",
   "execution_count": null,
   "metadata": {},
   "outputs": [],
   "source": []
  }
 ],
 "metadata": {
  "kernelspec": {
   "display_name": "Python 3",
   "language": "python",
   "name": "python3"
  },
  "language_info": {
   "codemirror_mode": {
    "name": "ipython",
    "version": 3
   },
   "file_extension": ".py",
   "mimetype": "text/x-python",
   "name": "python",
   "nbconvert_exporter": "python",
   "pygments_lexer": "ipython3",
   "version": "3.11.13"
  }
 },
 "nbformat": 4,
 "nbformat_minor": 2
}
